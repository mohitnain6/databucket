{
 "cells": [
  {
   "cell_type": "code",
   "execution_count": null,
   "metadata": {},
   "outputs": [],
   "source": []
  },
  {
   "cell_type": "code",
   "execution_count": 29,
   "metadata": {},
   "outputs": [],
   "source": [
    "import numpy as np\n",
    "import pandas as pd\n",
    "import matplotlib.pyplot as plt"
   ]
  },
  {
   "cell_type": "code",
   "execution_count": 28,
   "metadata": {},
   "outputs": [],
   "source": [
    "data = pd.read_csv(r\"WHO.csv\")"
   ]
  },
  {
   "cell_type": "code",
   "execution_count": 30,
   "metadata": {},
   "outputs": [
    {
     "data": {
      "text/html": [
       "<div>\n",
       "<style scoped>\n",
       "    .dataframe tbody tr th:only-of-type {\n",
       "        vertical-align: middle;\n",
       "    }\n",
       "\n",
       "    .dataframe tbody tr th {\n",
       "        vertical-align: top;\n",
       "    }\n",
       "\n",
       "    .dataframe thead th {\n",
       "        text-align: right;\n",
       "    }\n",
       "</style>\n",
       "<table border=\"1\" class=\"dataframe\">\n",
       "  <thead>\n",
       "    <tr style=\"text-align: right;\">\n",
       "      <th></th>\n",
       "      <th>Country</th>\n",
       "      <th>Region</th>\n",
       "      <th>Population</th>\n",
       "      <th>Under15</th>\n",
       "      <th>Over60</th>\n",
       "      <th>FertilityRate</th>\n",
       "      <th>LifeExpectancy</th>\n",
       "      <th>ChildMortality</th>\n",
       "      <th>CellularSubscribers</th>\n",
       "      <th>LiteracyRate</th>\n",
       "      <th>GNI</th>\n",
       "      <th>PrimarySchoolEnrollmentMale</th>\n",
       "      <th>PrimarySchoolEnrollmentFemale</th>\n",
       "    </tr>\n",
       "  </thead>\n",
       "  <tbody>\n",
       "    <tr>\n",
       "      <th>0</th>\n",
       "      <td>Afghanistan</td>\n",
       "      <td>Eastern Mediterranean</td>\n",
       "      <td>29825</td>\n",
       "      <td>47.42</td>\n",
       "      <td>3.82</td>\n",
       "      <td>5.40</td>\n",
       "      <td>60</td>\n",
       "      <td>98.5</td>\n",
       "      <td>54.26</td>\n",
       "      <td>0.0</td>\n",
       "      <td>1140</td>\n",
       "      <td>0.0</td>\n",
       "      <td>0.0</td>\n",
       "    </tr>\n",
       "    <tr>\n",
       "      <th>1</th>\n",
       "      <td>Albania</td>\n",
       "      <td>Europe</td>\n",
       "      <td>3162</td>\n",
       "      <td>21.33</td>\n",
       "      <td>14.93</td>\n",
       "      <td>1.75</td>\n",
       "      <td>74</td>\n",
       "      <td>16.7</td>\n",
       "      <td>96.39</td>\n",
       "      <td>0.0</td>\n",
       "      <td>8820</td>\n",
       "      <td>0.0</td>\n",
       "      <td>0.0</td>\n",
       "    </tr>\n",
       "    <tr>\n",
       "      <th>2</th>\n",
       "      <td>Algeria</td>\n",
       "      <td>Africa</td>\n",
       "      <td>38482</td>\n",
       "      <td>27.42</td>\n",
       "      <td>7.17</td>\n",
       "      <td>2.83</td>\n",
       "      <td>73</td>\n",
       "      <td>20.0</td>\n",
       "      <td>98.99</td>\n",
       "      <td>0.0</td>\n",
       "      <td>8310</td>\n",
       "      <td>98.2</td>\n",
       "      <td>96.4</td>\n",
       "    </tr>\n",
       "    <tr>\n",
       "      <th>3</th>\n",
       "      <td>Andorra</td>\n",
       "      <td>Europe</td>\n",
       "      <td>78</td>\n",
       "      <td>15.20</td>\n",
       "      <td>22.86</td>\n",
       "      <td>0.00</td>\n",
       "      <td>82</td>\n",
       "      <td>3.2</td>\n",
       "      <td>75.49</td>\n",
       "      <td>0.0</td>\n",
       "      <td>0</td>\n",
       "      <td>78.4</td>\n",
       "      <td>79.4</td>\n",
       "    </tr>\n",
       "    <tr>\n",
       "      <th>4</th>\n",
       "      <td>Angola</td>\n",
       "      <td>Africa</td>\n",
       "      <td>20821</td>\n",
       "      <td>47.58</td>\n",
       "      <td>3.84</td>\n",
       "      <td>6.10</td>\n",
       "      <td>51</td>\n",
       "      <td>163.5</td>\n",
       "      <td>48.38</td>\n",
       "      <td>70.1</td>\n",
       "      <td>5230</td>\n",
       "      <td>93.1</td>\n",
       "      <td>78.2</td>\n",
       "    </tr>\n",
       "  </tbody>\n",
       "</table>\n",
       "</div>"
      ],
      "text/plain": [
       "       Country                 Region  Population  Under15  Over60  \\\n",
       "0  Afghanistan  Eastern Mediterranean       29825    47.42    3.82   \n",
       "1      Albania                 Europe        3162    21.33   14.93   \n",
       "2      Algeria                 Africa       38482    27.42    7.17   \n",
       "3      Andorra                 Europe          78    15.20   22.86   \n",
       "4       Angola                 Africa       20821    47.58    3.84   \n",
       "\n",
       "   FertilityRate  LifeExpectancy  ChildMortality  CellularSubscribers  \\\n",
       "0           5.40              60            98.5                54.26   \n",
       "1           1.75              74            16.7                96.39   \n",
       "2           2.83              73            20.0                98.99   \n",
       "3           0.00              82             3.2                75.49   \n",
       "4           6.10              51           163.5                48.38   \n",
       "\n",
       "   LiteracyRate   GNI  PrimarySchoolEnrollmentMale  \\\n",
       "0           0.0  1140                          0.0   \n",
       "1           0.0  8820                          0.0   \n",
       "2           0.0  8310                         98.2   \n",
       "3           0.0     0                         78.4   \n",
       "4          70.1  5230                         93.1   \n",
       "\n",
       "   PrimarySchoolEnrollmentFemale  \n",
       "0                            0.0  \n",
       "1                            0.0  \n",
       "2                           96.4  \n",
       "3                           79.4  \n",
       "4                           78.2  "
      ]
     },
     "execution_count": 30,
     "metadata": {},
     "output_type": "execute_result"
    }
   ],
   "source": [
    "data.head()"
   ]
  },
  {
   "cell_type": "markdown",
   "metadata": {},
   "source": [
    "# Treating missing values and outliers"
   ]
  },
  {
   "cell_type": "code",
   "execution_count": 31,
   "metadata": {},
   "outputs": [
    {
     "data": {
      "text/plain": [
       "Country                           0\n",
       "Region                            0\n",
       "Population                        0\n",
       "Under15                           0\n",
       "Over60                            0\n",
       "FertilityRate                    11\n",
       "LifeExpectancy                    0\n",
       "ChildMortality                    0\n",
       "CellularSubscribers              10\n",
       "LiteracyRate                     91\n",
       "GNI                              32\n",
       "PrimarySchoolEnrollmentMale      93\n",
       "PrimarySchoolEnrollmentFemale    93\n",
       "dtype: int64"
      ]
     },
     "execution_count": 31,
     "metadata": {},
     "output_type": "execute_result"
    }
   ],
   "source": [
    "data[data == 0].count()"
   ]
  },
  {
   "cell_type": "code",
   "execution_count": 32,
   "metadata": {},
   "outputs": [
    {
     "name": "stderr",
     "output_type": "stream",
     "text": [
      "C:\\Users\\nain\\Anaconda3\\lib\\site-packages\\ipykernel_launcher.py:2: SettingWithCopyWarning: \n",
      "A value is trying to be set on a copy of a slice from a DataFrame\n",
      "\n",
      "See the caveats in the documentation: http://pandas.pydata.org/pandas-docs/stable/indexing.html#indexing-view-versus-copy\n",
      "  \n"
     ]
    }
   ],
   "source": [
    "l1 = list(data[data[\"FertilityRate\"] == 0].index)\n",
    "data[\"FertilityRate\"][l1] = data[\"FertilityRate\"].mean()"
   ]
  },
  {
   "cell_type": "code",
   "execution_count": 33,
   "metadata": {},
   "outputs": [
    {
     "name": "stderr",
     "output_type": "stream",
     "text": [
      "C:\\Users\\nain\\Anaconda3\\lib\\site-packages\\ipykernel_launcher.py:2: SettingWithCopyWarning: \n",
      "A value is trying to be set on a copy of a slice from a DataFrame\n",
      "\n",
      "See the caveats in the documentation: http://pandas.pydata.org/pandas-docs/stable/indexing.html#indexing-view-versus-copy\n",
      "  \n"
     ]
    }
   ],
   "source": [
    "l1 = list(data[data[\"CellularSubscribers\"] == 0].index)\n",
    "data[\"CellularSubscribers\"][l1] = data[\"CellularSubscribers\"].mean()"
   ]
  },
  {
   "cell_type": "code",
   "execution_count": 34,
   "metadata": {},
   "outputs": [
    {
     "name": "stderr",
     "output_type": "stream",
     "text": [
      "C:\\Users\\nain\\Anaconda3\\lib\\site-packages\\ipykernel_launcher.py:2: SettingWithCopyWarning: \n",
      "A value is trying to be set on a copy of a slice from a DataFrame\n",
      "\n",
      "See the caveats in the documentation: http://pandas.pydata.org/pandas-docs/stable/indexing.html#indexing-view-versus-copy\n",
      "  \n"
     ]
    }
   ],
   "source": [
    "l1 = list(data[data[\"GNI\"] == 0].index)\n",
    "data[\"GNI\"][l1] = data[\"GNI\"].mean()"
   ]
  },
  {
   "cell_type": "code",
   "execution_count": 35,
   "metadata": {},
   "outputs": [],
   "source": [
    "X = data.drop([\"LifeExpectancy\"],axis = 1)"
   ]
  },
  {
   "cell_type": "code",
   "execution_count": 36,
   "metadata": {},
   "outputs": [],
   "source": [
    "Y = data[\"LifeExpectancy\"]"
   ]
  },
  {
   "cell_type": "code",
   "execution_count": 37,
   "metadata": {},
   "outputs": [
    {
     "data": {
      "image/png": "[encoded data removed]",
      "text/plain": [
       "<Figure size 1152x1152 with 7 Axes>"
      ]
     },
     "metadata": {
      "needs_background": "light"
     },
     "output_type": "display_data"
    }
   ],
   "source": [
    "plt.figure(1,figsize = [16,16])\n",
    "plt.subplot(421)\n",
    "plt.scatter(X[\"Population\"].index,X[\"Population\"])\n",
    "plt.title(\"Population\")\n",
    "plt.subplot(422)\n",
    "plt.scatter(X[\"Under15\"].index,X[\"Under15\"])\n",
    "plt.title(\"Under15\")\n",
    "plt.subplot(423)\n",
    "plt.scatter(X[\"Over60\"].index,X[\"Over60\"])\n",
    "plt.title(\"Over60\")\n",
    "plt.subplot(424)\n",
    "plt.scatter(X[\"FertilityRate\"].index,X[\"FertilityRate\"])\n",
    "plt.title(\"FertilityRate\")\n",
    "plt.subplot(425)\n",
    "plt.scatter(X[\"ChildMortality\"].index,X[\"ChildMortality\"])\n",
    "plt.title(\"ChildMortality\")\n",
    "plt.subplot(426)\n",
    "plt.scatter(X[\"CellularSubscribers\"].index,X[\"CellularSubscribers\"])\n",
    "plt.title(\"CellularSubscribers\")\n",
    "plt.subplot(427)\n",
    "plt.scatter(X[\"GNI\"].index,X[\"GNI\"])\n",
    "plt.title(\"GNI\")\n",
    "plt.show()"
   ]
  },
  {
   "cell_type": "code",
   "execution_count": 38,
   "metadata": {},
   "outputs": [],
   "source": [
    "l1 = sorted(X[\"Population\"].values)[-2:]"
   ]
  },
  {
   "cell_type": "code",
   "execution_count": 39,
   "metadata": {},
   "outputs": [
    {
     "name": "stderr",
     "output_type": "stream",
     "text": [
      "C:\\Users\\nain\\Anaconda3\\lib\\site-packages\\ipykernel_launcher.py:3: SettingWithCopyWarning: \n",
      "A value is trying to be set on a copy of a slice from a DataFrame\n",
      "\n",
      "See the caveats in the documentation: http://pandas.pydata.org/pandas-docs/stable/indexing.html#indexing-view-versus-copy\n",
      "  This is separate from the ipykernel package so we can avoid doing imports until\n"
     ]
    }
   ],
   "source": [
    "for i in l1:\n",
    "    l2 = X[\"Population\"][X[\"Population\"] == i].index\n",
    "    X[\"Population\"][l2] = sorted(X[\"Population\"].values)[-3]"
   ]
  },
  {
   "cell_type": "code",
   "execution_count": 40,
   "metadata": {},
   "outputs": [],
   "source": [
    "l1 = sorted(X[\"GNI\"].values)[-1]"
   ]
  },
  {
   "cell_type": "code",
   "execution_count": 41,
   "metadata": {},
   "outputs": [
    {
     "name": "stderr",
     "output_type": "stream",
     "text": [
      "C:\\Users\\nain\\Anaconda3\\lib\\site-packages\\ipykernel_launcher.py:2: SettingWithCopyWarning: \n",
      "A value is trying to be set on a copy of a slice from a DataFrame\n",
      "\n",
      "See the caveats in the documentation: http://pandas.pydata.org/pandas-docs/stable/indexing.html#indexing-view-versus-copy\n",
      "  \n"
     ]
    }
   ],
   "source": [
    "l2 = X[\"GNI\"][X[\"GNI\"] == l1].index\n",
    "X[\"GNI\"][l2] = sorted(X[\"GNI\"].values)[-2]"
   ]
  },
  {
   "cell_type": "markdown",
   "metadata": {},
   "source": [
    "# Label encoding and standardization of data"
   ]
  },
  {
   "cell_type": "code",
   "execution_count": 42,
   "metadata": {},
   "outputs": [],
   "source": [
    "from sklearn import preprocessing\n",
    "encoder = preprocessing.LabelEncoder()\n",
    "\n",
    "for i in X.columns:\n",
    "    if isinstance(X[i][0],str):\n",
    "        X[i] = encoder.fit_transform(X[i])"
   ]
  },
  {
   "cell_type": "code",
   "execution_count": 43,
   "metadata": {},
   "outputs": [
    {
     "name": "stderr",
     "output_type": "stream",
     "text": [
      "C:\\Users\\nain\\Anaconda3\\lib\\site-packages\\sklearn\\preprocessing\\data.py:645: DataConversionWarning: Data with input dtype int32, int64, float64 were all converted to float64 by StandardScaler.\n",
      "  return self.partial_fit(X, y)\n",
      "C:\\Users\\nain\\Anaconda3\\lib\\site-packages\\ipykernel_launcher.py:4: DataConversionWarning: Data with input dtype int32, int64, float64 were all converted to float64 by StandardScaler.\n",
      "  after removing the cwd from sys.path.\n"
     ]
    }
   ],
   "source": [
    "from sklearn.preprocessing import StandardScaler\n",
    "scaler = StandardScaler()\n",
    "scaler.fit(X)\n",
    "scaler_d = scaler.transform(X)"
   ]
  },
  {
   "cell_type": "markdown",
   "metadata": {},
   "source": [
    "# Feature selection"
   ]
  },
  {
   "cell_type": "code",
   "execution_count": 44,
   "metadata": {},
   "outputs": [
    {
     "data": {
      "text/plain": [
       "Country                         -0.026372\n",
       "Region                           0.491082\n",
       "Population                       0.023655\n",
       "Under15                         -0.836467\n",
       "Over60                           0.688129\n",
       "FertilityRate                   -0.824463\n",
       "ChildMortality                  -0.924564\n",
       "CellularSubscribers              0.610808\n",
       "LiteracyRate                    -0.072008\n",
       "GNI                              0.618488\n",
       "PrimarySchoolEnrollmentMale      0.210041\n",
       "PrimarySchoolEnrollmentFemale    0.235187\n",
       "dtype: float64"
      ]
     },
     "execution_count": 44,
     "metadata": {},
     "output_type": "execute_result"
    }
   ],
   "source": [
    "correlation = pd.Series([np.corrcoef(X[i],Y)[0,1] for i in list(X.columns)],index=list(X.columns))\n",
    "correlation"
   ]
  },
  {
   "cell_type": "code",
   "execution_count": 45,
   "metadata": {},
   "outputs": [
    {
     "name": "stderr",
     "output_type": "stream",
     "text": [
      "C:\\Users\\nain\\Anaconda3\\lib\\site-packages\\numpy\\core\\fromnumeric.py:2389: FutureWarning: Method .ptp is deprecated and will be removed in a future version. Use numpy.ptp instead.\n",
      "  return ptp(axis=axis, out=out, **kwargs)\n"
     ]
    },
    {
     "data": {
      "text/plain": [
       "const                            134.647120\n",
       "Country                            1.095872\n",
       "Region                             1.540173\n",
       "Population                         1.060824\n",
       "Under15                           16.976184\n",
       "Over60                             4.147127\n",
       "FertilityRate                     11.517273\n",
       "ChildMortality                     4.793201\n",
       "CellularSubscribers                1.935928\n",
       "LiteracyRate                       1.131799\n",
       "GNI                                2.075176\n",
       "PrimarySchoolEnrollmentMale      264.341905\n",
       "PrimarySchoolEnrollmentFemale    268.082747\n",
       "dtype: float64"
      ]
     },
     "execution_count": 45,
     "metadata": {},
     "output_type": "execute_result"
    }
   ],
   "source": [
    "from statsmodels.stats.outliers_influence import variance_inflation_factor\n",
    "from statsmodels.tools.tools import add_constant\n",
    "\n",
    "X = add_constant(X)\n",
    "\n",
    "pd.Series([variance_inflation_factor(X.values, i) for i in range(X.shape[1])],index=X.columns)    "
   ]
  },
  {
   "cell_type": "code",
   "execution_count": 38,
   "metadata": {},
   "outputs": [],
   "source": [
    "droplist = [\"PrimarySchoolEnrollmentMale\",\"PrimarySchoolEnrollmentFemale\",\"LiteracyRate\",\"Country\",\"const\"]"
   ]
  },
  {
   "cell_type": "code",
   "execution_count": 39,
   "metadata": {},
   "outputs": [],
   "source": [
    "X = X.drop(droplist,axis = 1)"
   ]
  },
  {
   "cell_type": "code",
   "execution_count": 41,
   "metadata": {},
   "outputs": [
    {
     "data": {
      "text/html": [
       "<div>\n",
       "<style scoped>\n",
       "    .dataframe tbody tr th:only-of-type {\n",
       "        vertical-align: middle;\n",
       "    }\n",
       "\n",
       "    .dataframe tbody tr th {\n",
       "        vertical-align: top;\n",
       "    }\n",
       "\n",
       "    .dataframe thead th {\n",
       "        text-align: right;\n",
       "    }\n",
       "</style>\n",
       "<table border=\"1\" class=\"dataframe\">\n",
       "  <thead>\n",
       "    <tr style=\"text-align: right;\">\n",
       "      <th></th>\n",
       "      <th>Region</th>\n",
       "      <th>Population</th>\n",
       "      <th>Under15</th>\n",
       "      <th>Over60</th>\n",
       "      <th>FertilityRate</th>\n",
       "      <th>ChildMortality</th>\n",
       "      <th>CellularSubscribers</th>\n",
       "      <th>GNI</th>\n",
       "    </tr>\n",
       "  </thead>\n",
       "  <tbody>\n",
       "    <tr>\n",
       "      <th>0</th>\n",
       "      <td>2</td>\n",
       "      <td>29825</td>\n",
       "      <td>47.42</td>\n",
       "      <td>3.82</td>\n",
       "      <td>5.400000</td>\n",
       "      <td>98.5</td>\n",
       "      <td>54.26</td>\n",
       "      <td>1140.000000</td>\n",
       "    </tr>\n",
       "    <tr>\n",
       "      <th>1</th>\n",
       "      <td>3</td>\n",
       "      <td>3162</td>\n",
       "      <td>21.33</td>\n",
       "      <td>14.93</td>\n",
       "      <td>1.750000</td>\n",
       "      <td>16.7</td>\n",
       "      <td>96.39</td>\n",
       "      <td>8820.000000</td>\n",
       "    </tr>\n",
       "    <tr>\n",
       "      <th>2</th>\n",
       "      <td>0</td>\n",
       "      <td>38482</td>\n",
       "      <td>27.42</td>\n",
       "      <td>7.17</td>\n",
       "      <td>2.830000</td>\n",
       "      <td>20.0</td>\n",
       "      <td>98.99</td>\n",
       "      <td>8310.000000</td>\n",
       "    </tr>\n",
       "    <tr>\n",
       "      <th>3</th>\n",
       "      <td>3</td>\n",
       "      <td>78</td>\n",
       "      <td>15.20</td>\n",
       "      <td>22.86</td>\n",
       "      <td>2.773918</td>\n",
       "      <td>3.2</td>\n",
       "      <td>75.49</td>\n",
       "      <td>11123.659794</td>\n",
       "    </tr>\n",
       "    <tr>\n",
       "      <th>4</th>\n",
       "      <td>0</td>\n",
       "      <td>20821</td>\n",
       "      <td>47.58</td>\n",
       "      <td>3.84</td>\n",
       "      <td>6.100000</td>\n",
       "      <td>163.5</td>\n",
       "      <td>48.38</td>\n",
       "      <td>5230.000000</td>\n",
       "    </tr>\n",
       "  </tbody>\n",
       "</table>\n",
       "</div>"
      ],
      "text/plain": [
       "   Region  Population  Under15  Over60  FertilityRate  ChildMortality  \\\n",
       "0       2       29825    47.42    3.82       5.400000            98.5   \n",
       "1       3        3162    21.33   14.93       1.750000            16.7   \n",
       "2       0       38482    27.42    7.17       2.830000            20.0   \n",
       "3       3          78    15.20   22.86       2.773918             3.2   \n",
       "4       0       20821    47.58    3.84       6.100000           163.5   \n",
       "\n",
       "   CellularSubscribers           GNI  \n",
       "0                54.26   1140.000000  \n",
       "1                96.39   8820.000000  \n",
       "2                98.99   8310.000000  \n",
       "3                75.49  11123.659794  \n",
       "4                48.38   5230.000000  "
      ]
     },
     "execution_count": 41,
     "metadata": {},
     "output_type": "execute_result"
    }
   ],
   "source": [
    "X.head()"
   ]
  },
  {
   "cell_type": "markdown",
   "metadata": {},
   "source": [
    "# Modeling"
   ]
  },
  {
   "cell_type": "code",
   "execution_count": 110,
   "metadata": {},
   "outputs": [
    {
     "data": {
      "text/plain": [
       "LinearRegression(copy_X=True, fit_intercept=True, n_jobs=None,\n",
       "         normalize=False)"
      ]
     },
     "execution_count": 110,
     "metadata": {},
     "output_type": "execute_result"
    }
   ],
   "source": [
    "from sklearn.linear_model import LinearRegression\n",
    "from sklearn.preprocessing import PolynomialFeatures \n",
    "  \n",
    "poly = PolynomialFeatures(degree = 3) \n",
    "X_poly = poly.fit_transform(X) \n",
    "  \n",
    "\n",
    "lin = LinearRegression() \n",
    "lin.fit(X_poly, Y)"
   ]
  },
  {
   "cell_type": "code",
   "execution_count": 100,
   "metadata": {},
   "outputs": [
    {
     "data": {
      "image/png": "[encoded data removed]",
      "text/plain": [
       "<Figure size 432x288 with 1 Axes>"
      ]
     },
     "metadata": {
      "needs_background": "light"
     },
     "output_type": "display_data"
    }
   ],
   "source": [
    "\n",
    "plt.scatter(X[\"Region\"].values.reshape(-1,1), Y, color = \"red\") \n",
    "plt.plot(X[\"Region\"].values.reshape(-1,1), lin.predict(poly.fit_transform(X[\"Region\"].values.reshape(-1,1))), color = 'blue')\n",
    "plt.title('Polynomial Regression')\n",
    "plt.xlabel('X') \n",
    "plt.ylabel('Y') \n",
    "  \n",
    "plt.show() "
   ]
  },
  {
   "cell_type": "code",
   "execution_count": 117,
   "metadata": {},
   "outputs": [],
   "source": [
    "a = np.array(data)\n",
    "pred = lin.predict(poly.fit_transform(X))"
   ]
  },
  {
   "cell_type": "code",
   "execution_count": 133,
   "metadata": {},
   "outputs": [
    {
     "data": {
      "text/plain": [
       "0.9725053490447918"
      ]
     },
     "execution_count": 133,
     "metadata": {},
     "output_type": "execute_result"
    }
   ],
   "source": [
    "from sklearn.metrics import r2_score\n",
    "r2_score(pred,b)"
   ]
  },
  {
   "cell_type": "code",
   "execution_count": null,
   "metadata": {},
   "outputs": [],
   "source": []
  },
  {
   "cell_type": "code",
   "execution_count": null,
   "metadata": {},
   "outputs": [],
   "source": []
  },
  {
   "cell_type": "code",
   "execution_count": null,
   "metadata": {},
   "outputs": [],
   "source": []
  },
  {
   "cell_type": "code",
   "execution_count": null,
   "metadata": {},
   "outputs": [],
   "source": []
  }
 ],
 "metadata": {
  "kernelspec": {
   "display_name": "Python 3",
   "language": "python",
   "name": "python3"
  },
  "language_info": {
   "codemirror_mode": {
    "name": "ipython",
    "version": 3
   },
   "file_extension": ".py",
   "mimetype": "text/x-python",
   "name": "python",
   "nbconvert_exporter": "python",
   "pygments_lexer": "ipython3",
   "version": "3.7.3"
  }
 },
 "nbformat": 4,
 "nbformat_minor": 2
}
